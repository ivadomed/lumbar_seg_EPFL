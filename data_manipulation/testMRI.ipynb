{
 "cells": [
  {
   "cell_type": "code",
   "execution_count": 1,
   "id": "c4189e8a",
   "metadata": {},
   "outputs": [],
   "source": [
    "import os\n",
    "import numpy as np\n",
    "from nibabel.testing import data_path\n",
    "import nibabel as nib\n",
    "import matplotlib.pyplot as plt\n",
    "\n",
    "PATH_DATA = '/Users/aramsevagavarian/Projet/lumbar-dataset-epfl/'\n",
    "os.chdir(PATH_DATA)\n",
    "\n",
    "nsamples = 11\n",
    "\n",
    "imgData = {} #Image headers and data\n",
    "labelData = {} #Label headers and data\n",
    "img = {} #Images\n",
    "label = {} #Labels\n",
    "\n",
    "#Get image and label data\n",
    "for n in range(nsamples):\n",
    "    if n < 9:\n",
    "        filename = os.path.join('sub-0'+str(n+1)+\"/anat/\", 'sub-0'+str(n+1)+'_T2w.nii.gz')\n",
    "        imgData['sub-'+str(n+1)] = (nib.load(filename))\n",
    "    if n >= 9:\n",
    "        filename = os.path.join('sub-'+str(n+1)+\"/anat/\", 'sub-'+str(n+1)+'_T2w.nii.gz')\n",
    "        imgData['sub-'+str(n+1)] = (nib.load(filename))\n",
    "\n",
    "for n in range(nsamples):\n",
    "    if n < 9:\n",
    "        filename = os.path.join('derivatives/labels/sub-0'+str(n+1)+\"/anat/\", 'sub-0'+str(n+1)+'_T2w_seg-manual.nii.gz')\n",
    "        labelData['sub-'+str(n+1)] = (nib.load(filename))\n",
    "    if n >= 9:\n",
    "        filename = os.path.join('derivatives/labels/sub-'+str(n+1)+\"/anat/\", 'sub-'+str(n+1)+'_T2w_seg-manual.nii.gz')\n",
    "        labelData['sub-'+str(n+1)] = (nib.load(filename))\n",
    "        \n",
    "#Get images and labels\n",
    "for n in range(nsamples):\n",
    "    img['sub-'+str(n+1)] = np.array(imgData['sub-'+str(n+1)].dataobj)\n",
    "\n",
    "for n in range(nsamples):\n",
    "    label['sub-'+str(n+1)] = np.array(labelData['sub-'+str(n+1)].dataobj)\n"
   ]
  },
  {
   "cell_type": "code",
   "execution_count": 2,
   "id": "2b26b730",
   "metadata": {},
   "outputs": [
    {
     "name": "stdout",
     "output_type": "stream",
     "text": [
      "(64, 640, 640)\n",
      "(64, 640, 640)\n",
      "(64, 640, 640)\n",
      "(64, 640, 640)\n",
      "(64, 640, 640)\n",
      "(64, 640, 640)\n",
      "(64, 640, 640)\n",
      "(640, 640, 64)\n",
      "(640, 640, 64)\n",
      "(640, 640, 64)\n",
      "(640, 640, 64)\n"
     ]
    }
   ],
   "source": [
    "#Data dimensions\n",
    "for n in range(nsamples):\n",
    "    print(imgData['sub-'+str(n+1)].shape)"
   ]
  },
  {
   "cell_type": "code",
   "execution_count": null,
   "id": "64926adf",
   "metadata": {},
   "outputs": [],
   "source": [
    "#Show first 4 images\n",
    "plt.figure(figsize=[20, 20]);\n",
    "n = 3\n",
    "for i in range(n):\n",
    "    plt.subplot(100+10*n+(i+1))\n",
    "    plt.imshow(img['sub-'+str(n+1)][32,:,:], cmap = 'gray')"
   ]
  },
  {
   "cell_type": "code",
   "execution_count": null,
   "id": "683f89ae",
   "metadata": {},
   "outputs": [],
   "source": [
    "#Show last 4 images after flip and rotation\n",
    "plt.figure(figsize=[20, 20]);\n",
    "n = 3\n",
    "for i in range(n):\n",
    "    plt.subplot(100+10*n+(i+1))\n",
    "    \n",
    "    #Shift from (640,640,64) to (64,640,640)\n",
    "    plt.imshow(np.rot90(np.transpose(img['sub-'+str(i+8)],(2,0,1)),2)[32,:,:],cmap = 'gray')"
   ]
  },
  {
   "cell_type": "code",
   "execution_count": 5,
   "id": "59b20fbe",
   "metadata": {},
   "outputs": [
    {
     "name": "stdout",
     "output_type": "stream",
     "text": [
      "sub-1:  [14, 378, 638]\n",
      "sub-2:  [28, 180, 638]\n",
      "sub-3:  [14, 262, 636]\n",
      "sub-4:  [24, 152, 638]\n",
      "sub-5:  [16, 238, 636]\n",
      "sub-6:  [20, 136, 636]\n",
      "sub-7:  [14, 166, 638]\n",
      "sub-8:  [14, 196, 638]\n",
      "sub-9:  [20, 232, 638]\n",
      "sub-10:  [52, 74, 638]\n",
      "sub-11:  [14, 206, 638]\n"
     ]
    }
   ],
   "source": [
    "#Distance between outermost voxel & reference point\n",
    "ref = [32,320,320]\n",
    "\n",
    "for n in range(11):\n",
    "    nx = []\n",
    "    ny = []\n",
    "    nz = []\n",
    "    if n < 7:\n",
    "        for i in range(64):\n",
    "            if not np.all(label['sub-' + str(n+1)][i,:,:] == 0):\n",
    "                nx.append(np.abs(i-ref[0]))\n",
    "\n",
    "        for i in range(640):\n",
    "            if not np.all(label['sub-' + str(n+1)][:,i,:] == 0):\n",
    "                ny.append(np.abs(i-ref[1]))\n",
    "\n",
    "        for i in range(640):\n",
    "            if not np.all(label['sub-' + str(n+1)][:,:,i] == 0):\n",
    "                nz.append(np.abs(i-ref[2]))\n",
    "    else:\n",
    "        for i in range(64):\n",
    "            if not np.all(np.rot90((np.transpose(label['sub-'+ str(n+1)],(2,0,1))[i,:,:])) == 0):\n",
    "                nx.append(np.abs(i-ref[0]))\n",
    "\n",
    "        for i in range(640):\n",
    "            if not np.all(np.rot90((np.transpose(label['sub-'+ str(n+1)],(2,0,1))[:,i,:])) == 0):\n",
    "                ny.append(np.abs(i-ref[1]))\n",
    "\n",
    "        for i in range(640):\n",
    "            if not np.all(np.rot90((np.transpose(label['sub-'+ str(n+1)],(2,0,1))[:,:,i])) == 0):\n",
    "                nz.append(np.abs(i-ref[2]))\n",
    "\n",
    "    box = [2*np.max(nx),2*np.max(ny),2*np.max(nz)]\n",
    "\n",
    "    print('sub-'+str(n+1)+': ',box)"
   ]
  },
  {
   "cell_type": "markdown",
   "id": "fa67afce",
   "metadata": {},
   "source": [
    "<b>The box to be used has size [52,378,638]</b>"
   ]
  },
  {
   "cell_type": "code",
   "execution_count": 6,
   "id": "4b339272",
   "metadata": {},
   "outputs": [],
   "source": [
    "#New image set with rotated images\n",
    "affines = []\n",
    "newImgData = []\n",
    "for i in range(11):\n",
    "    affines.append(imgData['sub-'+str(i+1)].affine)\n",
    "\n",
    "for i in range(7):\n",
    "    newImgData.append(imgData['sub-'+str(i+1)].dataobj)\n",
    "\n",
    "for i in range(7,11):\n",
    "    newImgData.append(np.rot90(np.transpose(imgData['sub-'+str(i+1)].dataobj,(2,0,1)),2))\n",
    "    \n",
    "newNiftis = []\n",
    "for i in range(11):\n",
    "    newNiftis.append(nib.Nifti1Image(newImgData[i], affines[i]))"
   ]
  },
  {
   "cell_type": "code",
   "execution_count": 7,
   "id": "4bf06c89",
   "metadata": {},
   "outputs": [],
   "source": [
    "#New label set with rotated labels\n",
    "affinesLabels = []\n",
    "dataLabelNew = []\n",
    "\n",
    "for i in range(11):\n",
    "    affinesLabels.append(labelData['sub-'+str(i+1)].affine)\n",
    "\n",
    "for i in range(7):\n",
    "    dataLabelNew.append(labelData['sub-'+str(i+1)].dataobj)\n",
    "\n",
    "for i in range(7,11):\n",
    "    dataLabelNew.append(np.rot90(np.transpose(labelData['sub-'+str(i+1)].dataobj,(2,0,1)),2))\n",
    "    \n",
    "newNiftisLabels = []\n",
    "\n",
    "for i in range(11):\n",
    "    newNiftisLabels.append(nib.Nifti1Image(dataLabelNew[i], affinesLabels[i]))"
   ]
  },
  {
   "cell_type": "code",
   "execution_count": 8,
   "id": "ec574a51",
   "metadata": {},
   "outputs": [],
   "source": [
    "os.chdir('/Users/aramsevagavarian/Projet')"
   ]
  },
  {
   "cell_type": "code",
   "execution_count": 9,
   "id": "b7ffb7a3",
   "metadata": {},
   "outputs": [],
   "source": [
    "if os.getcwd() != '/Users/aramsevagavarian/Projet':\n",
    "    os.chdir('/Users/aramsevagavarian/Projet')\n",
    "\n",
    "if not os.path.exists('new_data'):\n",
    "    os.mkdir('new_data')\n",
    "os.chdir('new_data')\n",
    "\n",
    "if not os.path.exists('derivatives/labels'):\n",
    "    os.makedirs('derivatives/labels')\n",
    "    \n",
    "for i in range(11):\n",
    "    if i < 9:\n",
    "        if not os.path.exists('sub-0'+str(i+1)):\n",
    "            os.mkdir('sub-0'+str(i+1))\n",
    "            os.chdir('sub-0'+str(i+1))\n",
    "            os.mkdir('anat')\n",
    "            os.chdir('anat')\n",
    "            nib.save(newNiftis[i], os.path.join(os.getcwd(), 'sub-0'+str(i+1)+'_T2w.nii.gz'))\n",
    "            os.chdir('../..')\n",
    "            \n",
    "            os.chdir('derivatives/labels')\n",
    "            os.mkdir('sub-0'+str(i+1))\n",
    "            os.chdir('sub-0'+str(i+1))\n",
    "            os.mkdir('anat')\n",
    "            os.chdir('anat')\n",
    "            nib.save(newNiftisLabels[i], os.path.join(os.getcwd(), 'sub-0'+str(i+1)+'_T2w_seg-manual.nii.gz'))\n",
    "            os.chdir('../../../..')\n",
    "\n",
    "    else:\n",
    "        if not os.path.exists('sub-'+str(i+1)):\n",
    "            os.mkdir('sub-'+str(i+1))\n",
    "            os.chdir('sub-'+str(i+1))\n",
    "            os.mkdir('anat')\n",
    "            os.chdir('anat')\n",
    "            nib.save(newNiftis[i], os.path.join(os.getcwd(), 'sub-'+str(i+1)+'_T2w.nii.gz'))\n",
    "            os.chdir('../..')\n",
    "\n",
    "            os.chdir('derivatives/labels')\n",
    "            os.mkdir('sub-'+str(i+1))\n",
    "            os.chdir('sub-'+str(i+1))\n",
    "            os.mkdir('anat')\n",
    "            os.chdir('anat')\n",
    "            nib.save(newNiftisLabels[i], os.path.join(os.getcwd(), 'sub-'+str(i+1)+'_T2w_seg-manual.nii.gz'))\n",
    "            os.chdir('../../../..')"
   ]
  },
  {
   "cell_type": "code",
   "execution_count": null,
   "id": "17267233",
   "metadata": {},
   "outputs": [],
   "source": [
    "plt.imshow(newImgData[1][32,:,:], cmap = 'gray')"
   ]
  }
 ],
 "metadata": {
  "kernelspec": {
   "display_name": "Python 3",
   "language": "python",
   "name": "python3"
  },
  "language_info": {
   "codemirror_mode": {
    "name": "ipython",
    "version": 3
   },
   "file_extension": ".py",
   "mimetype": "text/x-python",
   "name": "python",
   "nbconvert_exporter": "python",
   "pygments_lexer": "ipython3",
   "version": "3.8.8"
  }
 },
 "nbformat": 4,
 "nbformat_minor": 5
}
